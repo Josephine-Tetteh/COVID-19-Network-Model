{
 "cells": [
  {
   "cell_type": "code",
   "execution_count": null,
   "metadata": {},
   "outputs": [],
   "source": [
    "# double logistic function to calculate beta(t)\n",
    "def double_smoothlog(time, bound1 , bound2, rate1 , rate2 , midpoint1 , midpoint2):\n",
    "    result = []\n",
    "    mini = 0\n",
    "    maxi = time\n",
    "    for x in range(time):\n",
    "        if (midpoint1 > maxi | midpoint2 > maxi | midpoint1 < mini | midpoint2 < mini | midpoint1 > midpoint2):\n",
    "            stop('midpoints not in range!')\n",
    "        t1 = 1 / (1 + math.exp(-rate1*(x - midpoint1)))\n",
    "        t2 = 1 / (1 + math.exp( rate2*(x - midpoint2)))\n",
    "        out = bound1 + (bound2-bound1) * ((t1 + t2) - 1)\n",
    "        result.append(out)\n",
    "    return(result)\n"
   ]
  }
 ],
 "metadata": {
  "kernelspec": {
   "display_name": "Python 3",
   "language": "python",
   "name": "python3"
  },
  "language_info": {
   "codemirror_mode": {
    "name": "ipython",
    "version": 3
   },
   "file_extension": ".py",
   "mimetype": "text/x-python",
   "name": "python",
   "nbconvert_exporter": "python",
   "pygments_lexer": "ipython3",
   "version": "3.7.3"
  }
 },
 "nbformat": 4,
 "nbformat_minor": 2
}
